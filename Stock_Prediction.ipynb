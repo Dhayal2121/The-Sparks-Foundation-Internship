{
  "nbformat": 4,
  "nbformat_minor": 0,
  "metadata": {
    "colab": {
      "name": "Stock_Prediction.ipynb",
      "provenance": [],
      "collapsed_sections": []
    },
    "kernelspec": {
      "display_name": "Python 3",
      "name": "python3"
    }
  },
  "cells": [
    {
      "cell_type": "markdown",
      "metadata": {
        "id": "view-in-github"
      },
      "source": [
        "<a href=\"https://colab.research.google.com/github/roshank1605A04/Stock-Market-Predictions/blob/master/Stock_Prediction.ipynb\" target=\"_parent\"><img src=\"https://colab.research.google.com/assets/colab-badge.svg\" alt=\"Open In Colab\"/></a>"
      ]
    },
    {
      "cell_type": "markdown",
      "metadata": {
        "id": "YYOgPabLhp2M"
      },
      "source": [
        "# Stock Prediction\n",
        "## Aril Dhayal"
      ]
    },
    {
      "cell_type": "code",
      "metadata": {
        "colab": {
          "resources": {
            "http://localhost:8080/nbextensions/google.colab/files.js": {
              "data": "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",
              "ok": true,
              "headers": [
                [
                  "content-type",
                  "application/javascript"
                ]
              ],
              "status": 200,
              "status_text": ""
            }
          },
          "base_uri": "https://localhost:8080/",
          "height": 73
        },
        "id": "R4rA8ppjew_1",
        "outputId": "9ebac26b-d60f-4333-c2b7-ffc83e57ff99"
      },
      "source": [
        "from google.colab import files \n",
        "uploaded = files.upload()"
      ],
      "execution_count": 25,
      "outputs": [
        {
          "output_type": "display_data",
          "data": {
            "text/html": [
              "\n",
              "     <input type=\"file\" id=\"files-3c655fab-8f7e-4955-9c4f-d1c790e72557\" name=\"files[]\" multiple disabled\n",
              "        style=\"border:none\" />\n",
              "     <output id=\"result-3c655fab-8f7e-4955-9c4f-d1c790e72557\">\n",
              "      Upload widget is only available when the cell has been executed in the\n",
              "      current browser session. Please rerun this cell to enable.\n",
              "      </output>\n",
              "      <script src=\"/nbextensions/google.colab/files.js\"></script> "
            ],
            "text/plain": [
              "<IPython.core.display.HTML object>"
            ]
          },
          "metadata": {
            "tags": []
          }
        },
        {
          "output_type": "stream",
          "text": [
            "Saving Google_Stock_Price_Train.csv to Google_Stock_Price_Train (3).csv\n"
          ],
          "name": "stdout"
        }
      ]
    },
    {
      "cell_type": "code",
      "metadata": {
        "colab": {
          "resources": {
            "http://localhost:8080/nbextensions/google.colab/files.js": {
              "data": "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",
              "ok": true,
              "headers": [
                [
                  "content-type",
                  "application/javascript"
                ]
              ],
              "status": 200,
              "status_text": ""
            }
          },
          "base_uri": "https://localhost:8080/",
          "height": 73
        },
        "id": "-6NpG-y9e5an",
        "outputId": "a817d71c-280e-4139-ae71-faa45d0c631c"
      },
      "source": [
        "from google.colab import files \n",
        "uploaded = files.upload()"
      ],
      "execution_count": 26,
      "outputs": [
        {
          "output_type": "display_data",
          "data": {
            "text/html": [
              "\n",
              "     <input type=\"file\" id=\"files-d54a690d-ea36-4d18-b611-fe01855428e1\" name=\"files[]\" multiple disabled\n",
              "        style=\"border:none\" />\n",
              "     <output id=\"result-d54a690d-ea36-4d18-b611-fe01855428e1\">\n",
              "      Upload widget is only available when the cell has been executed in the\n",
              "      current browser session. Please rerun this cell to enable.\n",
              "      </output>\n",
              "      <script src=\"/nbextensions/google.colab/files.js\"></script> "
            ],
            "text/plain": [
              "<IPython.core.display.HTML object>"
            ]
          },
          "metadata": {
            "tags": []
          }
        },
        {
          "output_type": "stream",
          "text": [
            "Saving Google_Stock_Price_Test.csv to Google_Stock_Price_Test (4).csv\n"
          ],
          "name": "stdout"
        }
      ]
    },
    {
      "cell_type": "code",
      "metadata": {
        "id": "qNYMEOdmsOac"
      },
      "source": [
        "import numpy as np\n",
        "import pandas as pd\n",
        "\n",
        "import matplotlib.pyplot as plt\n",
        "import seaborn as sns\n"
      ],
      "execution_count": 27,
      "outputs": []
    },
    {
      "cell_type": "code",
      "metadata": {
        "colab": {
          "base_uri": "https://localhost:8080/",
          "height": 206
        },
        "id": "Q-M-x72pu8TH",
        "outputId": "dff4f939-0f64-4604-b8da-9fbedb5ed22a"
      },
      "source": [
        "training_data = pd.read_csv('Google_Stock_Price_Train.csv')\n",
        "\n",
        "training_data.shape\n",
        "training_data.head()"
      ],
      "execution_count": 28,
      "outputs": [
        {
          "output_type": "execute_result",
          "data": {
            "text/html": [
              "<div>\n",
              "<style scoped>\n",
              "    .dataframe tbody tr th:only-of-type {\n",
              "        vertical-align: middle;\n",
              "    }\n",
              "\n",
              "    .dataframe tbody tr th {\n",
              "        vertical-align: top;\n",
              "    }\n",
              "\n",
              "    .dataframe thead th {\n",
              "        text-align: right;\n",
              "    }\n",
              "</style>\n",
              "<table border=\"1\" class=\"dataframe\">\n",
              "  <thead>\n",
              "    <tr style=\"text-align: right;\">\n",
              "      <th></th>\n",
              "      <th>Date</th>\n",
              "      <th>Open</th>\n",
              "      <th>High</th>\n",
              "      <th>Low</th>\n",
              "      <th>Close</th>\n",
              "      <th>Volume</th>\n",
              "    </tr>\n",
              "  </thead>\n",
              "  <tbody>\n",
              "    <tr>\n",
              "      <th>0</th>\n",
              "      <td>1/3/2012</td>\n",
              "      <td>325.25</td>\n",
              "      <td>332.83</td>\n",
              "      <td>324.97</td>\n",
              "      <td>663.59</td>\n",
              "      <td>7,380,500</td>\n",
              "    </tr>\n",
              "    <tr>\n",
              "      <th>1</th>\n",
              "      <td>1/4/2012</td>\n",
              "      <td>331.27</td>\n",
              "      <td>333.87</td>\n",
              "      <td>329.08</td>\n",
              "      <td>666.45</td>\n",
              "      <td>5,749,400</td>\n",
              "    </tr>\n",
              "    <tr>\n",
              "      <th>2</th>\n",
              "      <td>1/5/2012</td>\n",
              "      <td>329.83</td>\n",
              "      <td>330.75</td>\n",
              "      <td>326.89</td>\n",
              "      <td>657.21</td>\n",
              "      <td>6,590,300</td>\n",
              "    </tr>\n",
              "    <tr>\n",
              "      <th>3</th>\n",
              "      <td>1/6/2012</td>\n",
              "      <td>328.34</td>\n",
              "      <td>328.77</td>\n",
              "      <td>323.68</td>\n",
              "      <td>648.24</td>\n",
              "      <td>5,405,900</td>\n",
              "    </tr>\n",
              "    <tr>\n",
              "      <th>4</th>\n",
              "      <td>1/9/2012</td>\n",
              "      <td>322.04</td>\n",
              "      <td>322.29</td>\n",
              "      <td>309.46</td>\n",
              "      <td>620.76</td>\n",
              "      <td>11,688,800</td>\n",
              "    </tr>\n",
              "  </tbody>\n",
              "</table>\n",
              "</div>"
            ],
            "text/plain": [
              "       Date    Open    High     Low   Close      Volume\n",
              "0  1/3/2012  325.25  332.83  324.97  663.59   7,380,500\n",
              "1  1/4/2012  331.27  333.87  329.08  666.45   5,749,400\n",
              "2  1/5/2012  329.83  330.75  326.89  657.21   6,590,300\n",
              "3  1/6/2012  328.34  328.77  323.68  648.24   5,405,900\n",
              "4  1/9/2012  322.04  322.29  309.46  620.76  11,688,800"
            ]
          },
          "metadata": {
            "tags": []
          },
          "execution_count": 28
        }
      ]
    },
    {
      "cell_type": "code",
      "metadata": {
        "colab": {
          "base_uri": "https://localhost:8080/",
          "height": 206
        },
        "id": "Pm3EqSv_V0JB",
        "outputId": "a919b043-eed2-4435-add7-83124e327c14"
      },
      "source": [
        "training_data = training_data.iloc[:, 1:2]\n",
        "\n",
        "training_data.shape\n",
        "training_data.head()"
      ],
      "execution_count": 29,
      "outputs": [
        {
          "output_type": "execute_result",
          "data": {
            "text/html": [
              "<div>\n",
              "<style scoped>\n",
              "    .dataframe tbody tr th:only-of-type {\n",
              "        vertical-align: middle;\n",
              "    }\n",
              "\n",
              "    .dataframe tbody tr th {\n",
              "        vertical-align: top;\n",
              "    }\n",
              "\n",
              "    .dataframe thead th {\n",
              "        text-align: right;\n",
              "    }\n",
              "</style>\n",
              "<table border=\"1\" class=\"dataframe\">\n",
              "  <thead>\n",
              "    <tr style=\"text-align: right;\">\n",
              "      <th></th>\n",
              "      <th>Open</th>\n",
              "    </tr>\n",
              "  </thead>\n",
              "  <tbody>\n",
              "    <tr>\n",
              "      <th>0</th>\n",
              "      <td>325.25</td>\n",
              "    </tr>\n",
              "    <tr>\n",
              "      <th>1</th>\n",
              "      <td>331.27</td>\n",
              "    </tr>\n",
              "    <tr>\n",
              "      <th>2</th>\n",
              "      <td>329.83</td>\n",
              "    </tr>\n",
              "    <tr>\n",
              "      <th>3</th>\n",
              "      <td>328.34</td>\n",
              "    </tr>\n",
              "    <tr>\n",
              "      <th>4</th>\n",
              "      <td>322.04</td>\n",
              "    </tr>\n",
              "  </tbody>\n",
              "</table>\n",
              "</div>"
            ],
            "text/plain": [
              "     Open\n",
              "0  325.25\n",
              "1  331.27\n",
              "2  329.83\n",
              "3  328.34\n",
              "4  322.04"
            ]
          },
          "metadata": {
            "tags": []
          },
          "execution_count": 29
        }
      ]
    },
    {
      "cell_type": "code",
      "metadata": {
        "id": "z3OYbMhcwgqm"
      },
      "source": [
        "# feature scaling\n",
        "\n",
        "from sklearn.preprocessing import MinMaxScaler\n",
        "\n",
        "mm = MinMaxScaler(feature_range = (0, 1))\n",
        "training_data = mm.fit_transform(training_data)\n"
      ],
      "execution_count": 30,
      "outputs": []
    },
    {
      "cell_type": "code",
      "metadata": {
        "colab": {
          "base_uri": "https://localhost:8080/"
        },
        "id": "i8re98-UxQ3y",
        "outputId": "024a14df-1c69-4190-a393-335d532cf90e"
      },
      "source": [
        "# Getting the inputs and outputs\n",
        "\n",
        "x_train = training_data[0:1257]\n",
        "y_train = training_data[1:1258]\n",
        "\n",
        "print(x_train.shape)\n",
        "print(y_train.shape)\n"
      ],
      "execution_count": 31,
      "outputs": [
        {
          "output_type": "stream",
          "text": [
            "(1257, 1)\n",
            "(1257, 1)\n"
          ],
          "name": "stdout"
        }
      ]
    },
    {
      "cell_type": "code",
      "metadata": {
        "colab": {
          "base_uri": "https://localhost:8080/"
        },
        "id": "qTNdKPW8yFRc",
        "outputId": "71d18620-2be4-4545-d5c3-a7daf349625b"
      },
      "source": [
        "# reshaping\n",
        "\n",
        "x_train = np.reshape(x_train, (1257, 1, 1))\n",
        "\n",
        "print(x_train.shape)"
      ],
      "execution_count": 32,
      "outputs": [
        {
          "output_type": "stream",
          "text": [
            "(1257, 1, 1)\n"
          ],
          "name": "stdout"
        }
      ]
    },
    {
      "cell_type": "code",
      "metadata": {
        "id": "6c47hPxrzRHh"
      },
      "source": [
        "# importing the keras libraries and packages\n",
        "\n",
        "import keras\n",
        "from keras.models import Sequential\n",
        "from keras.layers import Dense\n",
        "from keras.layers import LSTM\n"
      ],
      "execution_count": 33,
      "outputs": []
    },
    {
      "cell_type": "code",
      "metadata": {
        "colab": {
          "base_uri": "https://localhost:8080/"
        },
        "id": "Cbe32yNBzuF_",
        "outputId": "7dbd992e-f4ea-4a7d-d1e8-77473aab7243"
      },
      "source": [
        "# initializing the model\n",
        "model = Sequential()\n",
        "\n",
        "# adding the input layer and the LSTM layer\n",
        "model.add(LSTM(units = 4, activation = 'sigmoid', input_shape = (None, 1)))\n",
        "\n",
        "# adding the output layer\n",
        "model.add(Dense(units = 1))\n",
        "\n",
        "# compiling the model\n",
        "model.compile(optimizer = 'adam', loss = 'mean_squared_error')\n",
        "\n",
        "# fitting the RNN to the training data\n",
        "model.fit(x_train, y_train, batch_size = 32, epochs = 200)\n"
      ],
      "execution_count": 34,
      "outputs": [
        {
          "output_type": "stream",
          "text": [
            "Epoch 1/200\n",
            "40/40 [==============================] - 2s 2ms/step - loss: 0.3866\n",
            "Epoch 2/200\n",
            "40/40 [==============================] - 0s 2ms/step - loss: 0.2458\n",
            "Epoch 3/200\n",
            "40/40 [==============================] - 0s 2ms/step - loss: 0.1837\n",
            "Epoch 4/200\n",
            "40/40 [==============================] - 0s 2ms/step - loss: 0.1336\n",
            "Epoch 5/200\n",
            "40/40 [==============================] - 0s 2ms/step - loss: 0.1050\n",
            "Epoch 6/200\n",
            "40/40 [==============================] - 0s 2ms/step - loss: 0.0904\n",
            "Epoch 7/200\n",
            "40/40 [==============================] - 0s 2ms/step - loss: 0.0793\n",
            "Epoch 8/200\n",
            "40/40 [==============================] - 0s 2ms/step - loss: 0.0743\n",
            "Epoch 9/200\n",
            "40/40 [==============================] - 0s 2ms/step - loss: 0.0700\n",
            "Epoch 10/200\n",
            "40/40 [==============================] - 0s 2ms/step - loss: 0.0669\n",
            "Epoch 11/200\n",
            "40/40 [==============================] - 0s 2ms/step - loss: 0.0665\n",
            "Epoch 12/200\n",
            "40/40 [==============================] - 0s 2ms/step - loss: 0.0664\n",
            "Epoch 13/200\n",
            "40/40 [==============================] - 0s 2ms/step - loss: 0.0653\n",
            "Epoch 14/200\n",
            "40/40 [==============================] - 0s 2ms/step - loss: 0.0631\n",
            "Epoch 15/200\n",
            "40/40 [==============================] - 0s 2ms/step - loss: 0.0615\n",
            "Epoch 16/200\n",
            "40/40 [==============================] - 0s 2ms/step - loss: 0.0607\n",
            "Epoch 17/200\n",
            "40/40 [==============================] - 0s 2ms/step - loss: 0.0590\n",
            "Epoch 18/200\n",
            "40/40 [==============================] - 0s 2ms/step - loss: 0.0581\n",
            "Epoch 19/200\n",
            "40/40 [==============================] - 0s 2ms/step - loss: 0.0571\n",
            "Epoch 20/200\n",
            "40/40 [==============================] - 0s 2ms/step - loss: 0.0542\n",
            "Epoch 21/200\n",
            "40/40 [==============================] - 0s 2ms/step - loss: 0.0514\n",
            "Epoch 22/200\n",
            "40/40 [==============================] - 0s 2ms/step - loss: 0.0503\n",
            "Epoch 23/200\n",
            "40/40 [==============================] - 0s 2ms/step - loss: 0.0512\n",
            "Epoch 24/200\n",
            "40/40 [==============================] - 0s 2ms/step - loss: 0.0500\n",
            "Epoch 25/200\n",
            "40/40 [==============================] - 0s 2ms/step - loss: 0.0463\n",
            "Epoch 26/200\n",
            "40/40 [==============================] - 0s 2ms/step - loss: 0.0451\n",
            "Epoch 27/200\n",
            "40/40 [==============================] - 0s 2ms/step - loss: 0.0439\n",
            "Epoch 28/200\n",
            "40/40 [==============================] - 0s 2ms/step - loss: 0.0436\n",
            "Epoch 29/200\n",
            "40/40 [==============================] - 0s 2ms/step - loss: 0.0416\n",
            "Epoch 30/200\n",
            "40/40 [==============================] - 0s 2ms/step - loss: 0.0390\n",
            "Epoch 31/200\n",
            "40/40 [==============================] - 0s 2ms/step - loss: 0.0366\n",
            "Epoch 32/200\n",
            "40/40 [==============================] - 0s 2ms/step - loss: 0.0348\n",
            "Epoch 33/200\n",
            "40/40 [==============================] - 0s 2ms/step - loss: 0.0350\n",
            "Epoch 34/200\n",
            "40/40 [==============================] - 0s 2ms/step - loss: 0.0318\n",
            "Epoch 35/200\n",
            "40/40 [==============================] - 0s 2ms/step - loss: 0.0321\n",
            "Epoch 36/200\n",
            "40/40 [==============================] - 0s 2ms/step - loss: 0.0298\n",
            "Epoch 37/200\n",
            "40/40 [==============================] - 0s 2ms/step - loss: 0.0283\n",
            "Epoch 38/200\n",
            "40/40 [==============================] - 0s 2ms/step - loss: 0.0269\n",
            "Epoch 39/200\n",
            "40/40 [==============================] - 0s 2ms/step - loss: 0.0257\n",
            "Epoch 40/200\n",
            "40/40 [==============================] - 0s 2ms/step - loss: 0.0243\n",
            "Epoch 41/200\n",
            "40/40 [==============================] - 0s 2ms/step - loss: 0.0233\n",
            "Epoch 42/200\n",
            "40/40 [==============================] - 0s 2ms/step - loss: 0.0215\n",
            "Epoch 43/200\n",
            "40/40 [==============================] - 0s 2ms/step - loss: 0.0193\n",
            "Epoch 44/200\n",
            "40/40 [==============================] - 0s 2ms/step - loss: 0.0185\n",
            "Epoch 45/200\n",
            "40/40 [==============================] - 0s 2ms/step - loss: 0.0170\n",
            "Epoch 46/200\n",
            "40/40 [==============================] - 0s 2ms/step - loss: 0.0166\n",
            "Epoch 47/200\n",
            "40/40 [==============================] - 0s 2ms/step - loss: 0.0153\n",
            "Epoch 48/200\n",
            "40/40 [==============================] - 0s 2ms/step - loss: 0.0139\n",
            "Epoch 49/200\n",
            "40/40 [==============================] - 0s 2ms/step - loss: 0.0129\n",
            "Epoch 50/200\n",
            "40/40 [==============================] - 0s 2ms/step - loss: 0.0118\n",
            "Epoch 51/200\n",
            "40/40 [==============================] - 0s 2ms/step - loss: 0.0104\n",
            "Epoch 52/200\n",
            "40/40 [==============================] - 0s 2ms/step - loss: 0.0098\n",
            "Epoch 53/200\n",
            "40/40 [==============================] - 0s 2ms/step - loss: 0.0087\n",
            "Epoch 54/200\n",
            "40/40 [==============================] - 0s 2ms/step - loss: 0.0081\n",
            "Epoch 55/200\n",
            "40/40 [==============================] - 0s 2ms/step - loss: 0.0068\n",
            "Epoch 56/200\n",
            "40/40 [==============================] - 0s 2ms/step - loss: 0.0061\n",
            "Epoch 57/200\n",
            "40/40 [==============================] - 0s 2ms/step - loss: 0.0057\n",
            "Epoch 58/200\n",
            "40/40 [==============================] - 0s 2ms/step - loss: 0.0049\n",
            "Epoch 59/200\n",
            "40/40 [==============================] - 0s 2ms/step - loss: 0.0042\n",
            "Epoch 60/200\n",
            "40/40 [==============================] - 0s 2ms/step - loss: 0.0038\n",
            "Epoch 61/200\n",
            "40/40 [==============================] - 0s 2ms/step - loss: 0.0034\n",
            "Epoch 62/200\n",
            "40/40 [==============================] - 0s 2ms/step - loss: 0.0028\n",
            "Epoch 63/200\n",
            "40/40 [==============================] - 0s 2ms/step - loss: 0.0025\n",
            "Epoch 64/200\n",
            "40/40 [==============================] - 0s 2ms/step - loss: 0.0022\n",
            "Epoch 65/200\n",
            "40/40 [==============================] - 0s 2ms/step - loss: 0.0019\n",
            "Epoch 66/200\n",
            "40/40 [==============================] - 0s 2ms/step - loss: 0.0016\n",
            "Epoch 67/200\n",
            "40/40 [==============================] - 0s 2ms/step - loss: 0.0014\n",
            "Epoch 68/200\n",
            "40/40 [==============================] - 0s 2ms/step - loss: 0.0013\n",
            "Epoch 69/200\n",
            "40/40 [==============================] - 0s 2ms/step - loss: 0.0011\n",
            "Epoch 70/200\n",
            "40/40 [==============================] - 0s 2ms/step - loss: 9.0416e-04\n",
            "Epoch 71/200\n",
            "40/40 [==============================] - 0s 2ms/step - loss: 8.3163e-04\n",
            "Epoch 72/200\n",
            "40/40 [==============================] - 0s 2ms/step - loss: 7.1032e-04\n",
            "Epoch 73/200\n",
            "40/40 [==============================] - 0s 2ms/step - loss: 6.3601e-04\n",
            "Epoch 74/200\n",
            "40/40 [==============================] - 0s 2ms/step - loss: 5.1507e-04\n",
            "Epoch 75/200\n",
            "40/40 [==============================] - 0s 2ms/step - loss: 5.0960e-04\n",
            "Epoch 76/200\n",
            "40/40 [==============================] - 0s 2ms/step - loss: 4.9333e-04\n",
            "Epoch 77/200\n",
            "40/40 [==============================] - 0s 2ms/step - loss: 3.9708e-04\n",
            "Epoch 78/200\n",
            "40/40 [==============================] - 0s 2ms/step - loss: 3.8766e-04\n",
            "Epoch 79/200\n",
            "40/40 [==============================] - 0s 2ms/step - loss: 3.7392e-04\n",
            "Epoch 80/200\n",
            "40/40 [==============================] - 0s 2ms/step - loss: 3.4635e-04\n",
            "Epoch 81/200\n",
            "40/40 [==============================] - 0s 2ms/step - loss: 3.6022e-04\n",
            "Epoch 82/200\n",
            "40/40 [==============================] - 0s 2ms/step - loss: 3.3555e-04\n",
            "Epoch 83/200\n",
            "40/40 [==============================] - 0s 2ms/step - loss: 3.3629e-04\n",
            "Epoch 84/200\n",
            "40/40 [==============================] - 0s 2ms/step - loss: 3.0873e-04\n",
            "Epoch 85/200\n",
            "40/40 [==============================] - 0s 2ms/step - loss: 3.1584e-04\n",
            "Epoch 86/200\n",
            "40/40 [==============================] - 0s 2ms/step - loss: 3.4929e-04\n",
            "Epoch 87/200\n",
            "40/40 [==============================] - 0s 2ms/step - loss: 3.2527e-04\n",
            "Epoch 88/200\n",
            "40/40 [==============================] - 0s 2ms/step - loss: 3.4852e-04\n",
            "Epoch 89/200\n",
            "40/40 [==============================] - 0s 2ms/step - loss: 3.3527e-04\n",
            "Epoch 90/200\n",
            "40/40 [==============================] - 0s 2ms/step - loss: 3.0793e-04\n",
            "Epoch 91/200\n",
            "40/40 [==============================] - 0s 2ms/step - loss: 3.4378e-04\n",
            "Epoch 92/200\n",
            "40/40 [==============================] - 0s 2ms/step - loss: 2.8360e-04\n",
            "Epoch 93/200\n",
            "40/40 [==============================] - 0s 2ms/step - loss: 2.7721e-04\n",
            "Epoch 94/200\n",
            "40/40 [==============================] - 0s 2ms/step - loss: 3.1038e-04\n",
            "Epoch 95/200\n",
            "40/40 [==============================] - 0s 2ms/step - loss: 2.9757e-04\n",
            "Epoch 96/200\n",
            "40/40 [==============================] - 0s 2ms/step - loss: 2.9499e-04\n",
            "Epoch 97/200\n",
            "40/40 [==============================] - 0s 2ms/step - loss: 2.7209e-04\n",
            "Epoch 98/200\n",
            "40/40 [==============================] - 0s 2ms/step - loss: 3.1607e-04\n",
            "Epoch 99/200\n",
            "40/40 [==============================] - 0s 2ms/step - loss: 2.9425e-04\n",
            "Epoch 100/200\n",
            "40/40 [==============================] - 0s 2ms/step - loss: 2.7280e-04\n",
            "Epoch 101/200\n",
            "40/40 [==============================] - 0s 2ms/step - loss: 2.9128e-04\n",
            "Epoch 102/200\n",
            "40/40 [==============================] - 0s 2ms/step - loss: 2.6467e-04\n",
            "Epoch 103/200\n",
            "40/40 [==============================] - 0s 2ms/step - loss: 2.7638e-04\n",
            "Epoch 104/200\n",
            "40/40 [==============================] - 0s 2ms/step - loss: 2.5737e-04\n",
            "Epoch 105/200\n",
            "40/40 [==============================] - 0s 2ms/step - loss: 3.0303e-04\n",
            "Epoch 106/200\n",
            "40/40 [==============================] - 0s 2ms/step - loss: 2.7853e-04\n",
            "Epoch 107/200\n",
            "40/40 [==============================] - 0s 2ms/step - loss: 2.8261e-04\n",
            "Epoch 108/200\n",
            "40/40 [==============================] - 0s 2ms/step - loss: 3.2477e-04\n",
            "Epoch 109/200\n",
            "40/40 [==============================] - 0s 2ms/step - loss: 3.2397e-04\n",
            "Epoch 110/200\n",
            "40/40 [==============================] - 0s 2ms/step - loss: 2.8440e-04\n",
            "Epoch 111/200\n",
            "40/40 [==============================] - 0s 2ms/step - loss: 2.7704e-04\n",
            "Epoch 112/200\n",
            "40/40 [==============================] - 0s 2ms/step - loss: 2.7052e-04\n",
            "Epoch 113/200\n",
            "40/40 [==============================] - 0s 2ms/step - loss: 2.5588e-04\n",
            "Epoch 114/200\n",
            "40/40 [==============================] - 0s 2ms/step - loss: 2.9615e-04\n",
            "Epoch 115/200\n",
            "40/40 [==============================] - 0s 2ms/step - loss: 2.7694e-04\n",
            "Epoch 116/200\n",
            "40/40 [==============================] - 0s 2ms/step - loss: 2.3900e-04\n",
            "Epoch 117/200\n",
            "40/40 [==============================] - 0s 2ms/step - loss: 2.7223e-04\n",
            "Epoch 118/200\n",
            "40/40 [==============================] - 0s 2ms/step - loss: 3.0895e-04\n",
            "Epoch 119/200\n",
            "40/40 [==============================] - 0s 2ms/step - loss: 2.7313e-04\n",
            "Epoch 120/200\n",
            "40/40 [==============================] - 0s 2ms/step - loss: 2.7202e-04\n",
            "Epoch 121/200\n",
            "40/40 [==============================] - 0s 2ms/step - loss: 3.0583e-04\n",
            "Epoch 122/200\n",
            "40/40 [==============================] - 0s 2ms/step - loss: 3.1254e-04\n",
            "Epoch 123/200\n",
            "40/40 [==============================] - 0s 2ms/step - loss: 2.6672e-04\n",
            "Epoch 124/200\n",
            "40/40 [==============================] - 0s 2ms/step - loss: 2.6891e-04\n",
            "Epoch 125/200\n",
            "40/40 [==============================] - 0s 2ms/step - loss: 3.3736e-04\n",
            "Epoch 126/200\n",
            "40/40 [==============================] - 0s 2ms/step - loss: 3.1940e-04\n",
            "Epoch 127/200\n",
            "40/40 [==============================] - 0s 2ms/step - loss: 3.0279e-04\n",
            "Epoch 128/200\n",
            "40/40 [==============================] - 0s 2ms/step - loss: 2.8441e-04\n",
            "Epoch 129/200\n",
            "40/40 [==============================] - 0s 2ms/step - loss: 2.7024e-04\n",
            "Epoch 130/200\n",
            "40/40 [==============================] - 0s 2ms/step - loss: 2.6678e-04\n",
            "Epoch 131/200\n",
            "40/40 [==============================] - 0s 2ms/step - loss: 3.0940e-04\n",
            "Epoch 132/200\n",
            "40/40 [==============================] - 0s 2ms/step - loss: 2.4453e-04\n",
            "Epoch 133/200\n",
            "40/40 [==============================] - 0s 2ms/step - loss: 3.0372e-04\n",
            "Epoch 134/200\n",
            "40/40 [==============================] - 0s 2ms/step - loss: 3.2944e-04\n",
            "Epoch 135/200\n",
            "40/40 [==============================] - 0s 2ms/step - loss: 4.1755e-04\n",
            "Epoch 136/200\n",
            "40/40 [==============================] - 0s 2ms/step - loss: 3.1379e-04\n",
            "Epoch 137/200\n",
            "40/40 [==============================] - 0s 2ms/step - loss: 2.5927e-04\n",
            "Epoch 138/200\n",
            "40/40 [==============================] - 0s 2ms/step - loss: 2.7713e-04\n",
            "Epoch 139/200\n",
            "40/40 [==============================] - 0s 2ms/step - loss: 2.9460e-04\n",
            "Epoch 140/200\n",
            "40/40 [==============================] - 0s 2ms/step - loss: 2.2323e-04\n",
            "Epoch 141/200\n",
            "40/40 [==============================] - 0s 2ms/step - loss: 2.5216e-04\n",
            "Epoch 142/200\n",
            "40/40 [==============================] - 0s 2ms/step - loss: 2.9740e-04\n",
            "Epoch 143/200\n",
            "40/40 [==============================] - 0s 2ms/step - loss: 3.0744e-04\n",
            "Epoch 144/200\n",
            "40/40 [==============================] - 0s 2ms/step - loss: 2.7029e-04\n",
            "Epoch 145/200\n",
            "40/40 [==============================] - 0s 2ms/step - loss: 2.7262e-04\n",
            "Epoch 146/200\n",
            "40/40 [==============================] - 0s 2ms/step - loss: 2.6065e-04\n",
            "Epoch 147/200\n",
            "40/40 [==============================] - 0s 2ms/step - loss: 3.3648e-04\n",
            "Epoch 148/200\n",
            "40/40 [==============================] - 0s 2ms/step - loss: 2.7121e-04\n",
            "Epoch 149/200\n",
            "40/40 [==============================] - 0s 2ms/step - loss: 2.4840e-04\n",
            "Epoch 150/200\n",
            "40/40 [==============================] - 0s 2ms/step - loss: 2.8468e-04\n",
            "Epoch 151/200\n",
            "40/40 [==============================] - 0s 2ms/step - loss: 2.4644e-04\n",
            "Epoch 152/200\n",
            "40/40 [==============================] - 0s 2ms/step - loss: 2.4760e-04\n",
            "Epoch 153/200\n",
            "40/40 [==============================] - 0s 2ms/step - loss: 3.1948e-04\n",
            "Epoch 154/200\n",
            "40/40 [==============================] - 0s 2ms/step - loss: 2.5405e-04\n",
            "Epoch 155/200\n",
            "40/40 [==============================] - 0s 2ms/step - loss: 2.8596e-04\n",
            "Epoch 156/200\n",
            "40/40 [==============================] - 0s 2ms/step - loss: 2.6935e-04\n",
            "Epoch 157/200\n",
            "40/40 [==============================] - 0s 2ms/step - loss: 3.2402e-04\n",
            "Epoch 158/200\n",
            "40/40 [==============================] - 0s 2ms/step - loss: 2.2759e-04\n",
            "Epoch 159/200\n",
            "40/40 [==============================] - 0s 2ms/step - loss: 2.8149e-04\n",
            "Epoch 160/200\n",
            "40/40 [==============================] - 0s 2ms/step - loss: 2.6808e-04\n",
            "Epoch 161/200\n",
            "40/40 [==============================] - 0s 2ms/step - loss: 2.9377e-04\n",
            "Epoch 162/200\n",
            "40/40 [==============================] - 0s 2ms/step - loss: 2.8266e-04\n",
            "Epoch 163/200\n",
            "40/40 [==============================] - 0s 2ms/step - loss: 2.5220e-04\n",
            "Epoch 164/200\n",
            "40/40 [==============================] - 0s 2ms/step - loss: 2.9729e-04\n",
            "Epoch 165/200\n",
            "40/40 [==============================] - 0s 2ms/step - loss: 2.4273e-04\n",
            "Epoch 166/200\n",
            "40/40 [==============================] - 0s 2ms/step - loss: 2.4494e-04\n",
            "Epoch 167/200\n",
            "40/40 [==============================] - 0s 2ms/step - loss: 2.5541e-04\n",
            "Epoch 168/200\n",
            "40/40 [==============================] - 0s 2ms/step - loss: 2.8356e-04\n",
            "Epoch 169/200\n",
            "40/40 [==============================] - 0s 2ms/step - loss: 2.6920e-04\n",
            "Epoch 170/200\n",
            "40/40 [==============================] - 0s 2ms/step - loss: 2.3132e-04\n",
            "Epoch 171/200\n",
            "40/40 [==============================] - 0s 2ms/step - loss: 2.8451e-04\n",
            "Epoch 172/200\n",
            "40/40 [==============================] - 0s 2ms/step - loss: 2.7036e-04\n",
            "Epoch 173/200\n",
            "40/40 [==============================] - 0s 2ms/step - loss: 2.9224e-04\n",
            "Epoch 174/200\n",
            "40/40 [==============================] - 0s 2ms/step - loss: 2.5839e-04\n",
            "Epoch 175/200\n",
            "40/40 [==============================] - 0s 2ms/step - loss: 2.8003e-04\n",
            "Epoch 176/200\n",
            "40/40 [==============================] - 0s 2ms/step - loss: 2.7863e-04\n",
            "Epoch 177/200\n",
            "40/40 [==============================] - 0s 2ms/step - loss: 2.5224e-04\n",
            "Epoch 178/200\n",
            "40/40 [==============================] - 0s 2ms/step - loss: 2.7370e-04\n",
            "Epoch 179/200\n",
            "40/40 [==============================] - 0s 2ms/step - loss: 2.6881e-04\n",
            "Epoch 180/200\n",
            "40/40 [==============================] - 0s 2ms/step - loss: 2.5115e-04\n",
            "Epoch 181/200\n",
            "40/40 [==============================] - 0s 2ms/step - loss: 2.2856e-04\n",
            "Epoch 182/200\n",
            "40/40 [==============================] - 0s 2ms/step - loss: 2.9320e-04\n",
            "Epoch 183/200\n",
            "40/40 [==============================] - 0s 2ms/step - loss: 2.7194e-04\n",
            "Epoch 184/200\n",
            "40/40 [==============================] - 0s 2ms/step - loss: 2.6579e-04\n",
            "Epoch 185/200\n",
            "40/40 [==============================] - 0s 2ms/step - loss: 2.7574e-04\n",
            "Epoch 186/200\n",
            "40/40 [==============================] - 0s 2ms/step - loss: 2.9411e-04\n",
            "Epoch 187/200\n",
            "40/40 [==============================] - 0s 2ms/step - loss: 2.1929e-04\n",
            "Epoch 188/200\n",
            "40/40 [==============================] - 0s 2ms/step - loss: 2.6688e-04\n",
            "Epoch 189/200\n",
            "40/40 [==============================] - 0s 2ms/step - loss: 2.6203e-04\n",
            "Epoch 190/200\n",
            "40/40 [==============================] - 0s 2ms/step - loss: 2.4429e-04\n",
            "Epoch 191/200\n",
            "40/40 [==============================] - 0s 2ms/step - loss: 2.5585e-04\n",
            "Epoch 192/200\n",
            "40/40 [==============================] - 0s 2ms/step - loss: 2.7910e-04\n",
            "Epoch 193/200\n",
            "40/40 [==============================] - 0s 2ms/step - loss: 2.9979e-04\n",
            "Epoch 194/200\n",
            "40/40 [==============================] - 0s 2ms/step - loss: 2.6591e-04\n",
            "Epoch 195/200\n",
            "40/40 [==============================] - 0s 2ms/step - loss: 2.2917e-04\n",
            "Epoch 196/200\n",
            "40/40 [==============================] - 0s 2ms/step - loss: 2.2739e-04\n",
            "Epoch 197/200\n",
            "40/40 [==============================] - 0s 2ms/step - loss: 2.6574e-04\n",
            "Epoch 198/200\n",
            "40/40 [==============================] - 0s 2ms/step - loss: 2.5974e-04\n",
            "Epoch 199/200\n",
            "40/40 [==============================] - 0s 2ms/step - loss: 2.7450e-04\n",
            "Epoch 200/200\n",
            "40/40 [==============================] - 0s 2ms/step - loss: 2.4648e-04\n"
          ],
          "name": "stdout"
        },
        {
          "output_type": "execute_result",
          "data": {
            "text/plain": [
              "<keras.callbacks.History at 0x7f28444b7450>"
            ]
          },
          "metadata": {
            "tags": []
          },
          "execution_count": 34
        }
      ]
    },
    {
      "cell_type": "code",
      "metadata": {
        "id": "9N-6i3PXUvWU",
        "colab": {
          "base_uri": "https://localhost:8080/",
          "height": 206
        },
        "outputId": "1234932c-4d2a-4db1-ea74-df1acf264b50"
      },
      "source": [
        "# getting the real stock of 2017 i.e., importing the test dataset\n",
        "\n",
        "test_data = pd.read_csv('Google_Stock_Price_Test.csv')\n",
        "real_stock_price = test_data.iloc[:,1:2]\n",
        "real_stock_price.head()\n"
      ],
      "execution_count": 35,
      "outputs": [
        {
          "output_type": "execute_result",
          "data": {
            "text/html": [
              "<div>\n",
              "<style scoped>\n",
              "    .dataframe tbody tr th:only-of-type {\n",
              "        vertical-align: middle;\n",
              "    }\n",
              "\n",
              "    .dataframe tbody tr th {\n",
              "        vertical-align: top;\n",
              "    }\n",
              "\n",
              "    .dataframe thead th {\n",
              "        text-align: right;\n",
              "    }\n",
              "</style>\n",
              "<table border=\"1\" class=\"dataframe\">\n",
              "  <thead>\n",
              "    <tr style=\"text-align: right;\">\n",
              "      <th></th>\n",
              "      <th>Open</th>\n",
              "    </tr>\n",
              "  </thead>\n",
              "  <tbody>\n",
              "    <tr>\n",
              "      <th>0</th>\n",
              "      <td>778.81</td>\n",
              "    </tr>\n",
              "    <tr>\n",
              "      <th>1</th>\n",
              "      <td>788.36</td>\n",
              "    </tr>\n",
              "    <tr>\n",
              "      <th>2</th>\n",
              "      <td>786.08</td>\n",
              "    </tr>\n",
              "    <tr>\n",
              "      <th>3</th>\n",
              "      <td>795.26</td>\n",
              "    </tr>\n",
              "    <tr>\n",
              "      <th>4</th>\n",
              "      <td>806.40</td>\n",
              "    </tr>\n",
              "  </tbody>\n",
              "</table>\n",
              "</div>"
            ],
            "text/plain": [
              "     Open\n",
              "0  778.81\n",
              "1  788.36\n",
              "2  786.08\n",
              "3  795.26\n",
              "4  806.40"
            ]
          },
          "metadata": {
            "tags": []
          },
          "execution_count": 35
        }
      ]
    },
    {
      "cell_type": "code",
      "metadata": {
        "id": "sYfYkJi4WBG2"
      },
      "source": [
        "# getting the predicted stock price of 2017\n",
        "\n",
        "inputs = real_stock_price\n",
        "inputs = mm.transform(inputs)\n",
        "inputs = np.reshape(inputs, (20, 1, 1))\n",
        "\n",
        "\n",
        "predicted_stock_price = model.predict(inputs)\n",
        "predicted_stock_price = mm.inverse_transform(predicted_stock_price)\n"
      ],
      "execution_count": 36,
      "outputs": []
    },
    {
      "cell_type": "code",
      "metadata": {
        "colab": {
          "base_uri": "https://localhost:8080/"
        },
        "id": "3tvcHwk8W2no",
        "outputId": "bb563ab1-8f4e-419c-f9c3-39f53cee60b7"
      },
      "source": [
        "predicted_stock_price"
      ],
      "execution_count": 37,
      "outputs": [
        {
          "output_type": "execute_result",
          "data": {
            "text/plain": [
              "array([[773.79846],\n",
              "       [782.20874],\n",
              "       [780.209  ],\n",
              "       [788.2293 ],\n",
              "       [797.849  ],\n",
              "       [799.1004 ],\n",
              "       [796.6469 ],\n",
              "       [798.48346],\n",
              "       [798.77484],\n",
              "       [798.4321 ],\n",
              "       [797.3425 ],\n",
              "       [796.75006],\n",
              "       [798.28625],\n",
              "       [798.5778 ],\n",
              "       [811.3594 ],\n",
              "       [817.4912 ],\n",
              "       [824.28503],\n",
              "       [821.7219 ],\n",
              "       [804.90015],\n",
              "       [789.6186 ]], dtype=float32)"
            ]
          },
          "metadata": {
            "tags": []
          },
          "execution_count": 37
        }
      ]
    },
    {
      "cell_type": "code",
      "metadata": {
        "colab": {
          "base_uri": "https://localhost:8080/",
          "height": 295
        },
        "id": "pkA9SvUqXF4M",
        "outputId": "d29f7b01-dd62-469e-8fdc-d7b94e1a638a"
      },
      "source": [
        "# visualizing the results\n",
        "\n",
        "plt.plot(real_stock_price, color = 'red', label = 'Real Google Stock Price')\n",
        "plt.plot(predicted_stock_price, color = 'blue', label = 'Predicted Google Stock Price')\n",
        "plt.title('Stock Prediction')\n",
        "plt.xlabel('Time')\n",
        "plt.ylabel('Google Stock Price')\n",
        "plt.legend()\n",
        "plt.show()"
      ],
      "execution_count": 38,
      "outputs": [
        {
          "output_type": "display_data",
          "data": {
            "image/png": "[encoded data removed]",
            "text/plain": [
              "<Figure size 432x288 with 1 Axes>"
            ]
          },
          "metadata": {
            "tags": [],
            "needs_background": "light"
          }
        }
      ]
    },
    {
      "cell_type": "code",
      "metadata": {
        "colab": {
          "base_uri": "https://localhost:8080/",
          "height": 206
        },
        "id": "a_5uKG6UYpxB",
        "outputId": "d5a18681-6118-4502-c2d8-18cdefe974e4"
      },
      "source": [
        "# getting the real stock price of 2012 - 2016\n",
        "\n",
        "training_data = pd.read_csv('Google_Stock_Price_Train.csv')\n",
        "\n",
        "training_data.shape\n",
        "training_data.head()"
      ],
      "execution_count": 39,
      "outputs": [
        {
          "output_type": "execute_result",
          "data": {
            "text/html": [
              "<div>\n",
              "<style scoped>\n",
              "    .dataframe tbody tr th:only-of-type {\n",
              "        vertical-align: middle;\n",
              "    }\n",
              "\n",
              "    .dataframe tbody tr th {\n",
              "        vertical-align: top;\n",
              "    }\n",
              "\n",
              "    .dataframe thead th {\n",
              "        text-align: right;\n",
              "    }\n",
              "</style>\n",
              "<table border=\"1\" class=\"dataframe\">\n",
              "  <thead>\n",
              "    <tr style=\"text-align: right;\">\n",
              "      <th></th>\n",
              "      <th>Date</th>\n",
              "      <th>Open</th>\n",
              "      <th>High</th>\n",
              "      <th>Low</th>\n",
              "      <th>Close</th>\n",
              "      <th>Volume</th>\n",
              "    </tr>\n",
              "  </thead>\n",
              "  <tbody>\n",
              "    <tr>\n",
              "      <th>0</th>\n",
              "      <td>1/3/2012</td>\n",
              "      <td>325.25</td>\n",
              "      <td>332.83</td>\n",
              "      <td>324.97</td>\n",
              "      <td>663.59</td>\n",
              "      <td>7,380,500</td>\n",
              "    </tr>\n",
              "    <tr>\n",
              "      <th>1</th>\n",
              "      <td>1/4/2012</td>\n",
              "      <td>331.27</td>\n",
              "      <td>333.87</td>\n",
              "      <td>329.08</td>\n",
              "      <td>666.45</td>\n",
              "      <td>5,749,400</td>\n",
              "    </tr>\n",
              "    <tr>\n",
              "      <th>2</th>\n",
              "      <td>1/5/2012</td>\n",
              "      <td>329.83</td>\n",
              "      <td>330.75</td>\n",
              "      <td>326.89</td>\n",
              "      <td>657.21</td>\n",
              "      <td>6,590,300</td>\n",
              "    </tr>\n",
              "    <tr>\n",
              "      <th>3</th>\n",
              "      <td>1/6/2012</td>\n",
              "      <td>328.34</td>\n",
              "      <td>328.77</td>\n",
              "      <td>323.68</td>\n",
              "      <td>648.24</td>\n",
              "      <td>5,405,900</td>\n",
              "    </tr>\n",
              "    <tr>\n",
              "      <th>4</th>\n",
              "      <td>1/9/2012</td>\n",
              "      <td>322.04</td>\n",
              "      <td>322.29</td>\n",
              "      <td>309.46</td>\n",
              "      <td>620.76</td>\n",
              "      <td>11,688,800</td>\n",
              "    </tr>\n",
              "  </tbody>\n",
              "</table>\n",
              "</div>"
            ],
            "text/plain": [
              "       Date    Open    High     Low   Close      Volume\n",
              "0  1/3/2012  325.25  332.83  324.97  663.59   7,380,500\n",
              "1  1/4/2012  331.27  333.87  329.08  666.45   5,749,400\n",
              "2  1/5/2012  329.83  330.75  326.89  657.21   6,590,300\n",
              "3  1/6/2012  328.34  328.77  323.68  648.24   5,405,900\n",
              "4  1/9/2012  322.04  322.29  309.46  620.76  11,688,800"
            ]
          },
          "metadata": {
            "tags": []
          },
          "execution_count": 39
        }
      ]
    },
    {
      "cell_type": "code",
      "metadata": {
        "colab": {
          "base_uri": "https://localhost:8080/",
          "height": 206
        },
        "id": "E7nPSVrHbQxM",
        "outputId": "eb2d9944-1aa3-4713-e766-fb7ab75ba829"
      },
      "source": [
        "training_data = training_data.iloc[:, 1:2]\n",
        "\n",
        "training_data.shape\n",
        "training_data.head()"
      ],
      "execution_count": 40,
      "outputs": [
        {
          "output_type": "execute_result",
          "data": {
            "text/html": [
              "<div>\n",
              "<style scoped>\n",
              "    .dataframe tbody tr th:only-of-type {\n",
              "        vertical-align: middle;\n",
              "    }\n",
              "\n",
              "    .dataframe tbody tr th {\n",
              "        vertical-align: top;\n",
              "    }\n",
              "\n",
              "    .dataframe thead th {\n",
              "        text-align: right;\n",
              "    }\n",
              "</style>\n",
              "<table border=\"1\" class=\"dataframe\">\n",
              "  <thead>\n",
              "    <tr style=\"text-align: right;\">\n",
              "      <th></th>\n",
              "      <th>Open</th>\n",
              "    </tr>\n",
              "  </thead>\n",
              "  <tbody>\n",
              "    <tr>\n",
              "      <th>0</th>\n",
              "      <td>325.25</td>\n",
              "    </tr>\n",
              "    <tr>\n",
              "      <th>1</th>\n",
              "      <td>331.27</td>\n",
              "    </tr>\n",
              "    <tr>\n",
              "      <th>2</th>\n",
              "      <td>329.83</td>\n",
              "    </tr>\n",
              "    <tr>\n",
              "      <th>3</th>\n",
              "      <td>328.34</td>\n",
              "    </tr>\n",
              "    <tr>\n",
              "      <th>4</th>\n",
              "      <td>322.04</td>\n",
              "    </tr>\n",
              "  </tbody>\n",
              "</table>\n",
              "</div>"
            ],
            "text/plain": [
              "     Open\n",
              "0  325.25\n",
              "1  331.27\n",
              "2  329.83\n",
              "3  328.34\n",
              "4  322.04"
            ]
          },
          "metadata": {
            "tags": []
          },
          "execution_count": 40
        }
      ]
    },
    {
      "cell_type": "code",
      "metadata": {
        "id": "6uXzm4mBaIHq"
      },
      "source": [
        "# getting the predicted stock price of 2012-2016\n",
        "\n",
        "predicted_stock_price = model.predict(x_train)\n",
        "predicted_stock_price = mm.inverse_transform(predicted_stock_price)"
      ],
      "execution_count": 41,
      "outputs": []
    },
    {
      "cell_type": "code",
      "metadata": {
        "colab": {
          "base_uri": "https://localhost:8080/",
          "height": 295
        },
        "id": "i76zfhK4arX9",
        "outputId": "cdbd24bc-5483-479b-e847-ea615ab630ee"
      },
      "source": [
        "# visualizing the whole training data results\n",
        "\n",
        "plt.plot(training_data, color = 'red', label = 'Real Google Stock Price')\n",
        "plt.plot(predicted_stock_price, color = 'blue', label = 'Predicted Google Stock Price')\n",
        "plt.title('Stock Prediction')\n",
        "plt.xlabel('Time')\n",
        "plt.ylabel('Google Stock Price')\n",
        "plt.legend()\n",
        "plt.show()"
      ],
      "execution_count": 42,
      "outputs": [
        {
          "output_type": "display_data",
          "data": {
            "image/png": "[encoded data removed]",
            "text/plain": [
              "<Figure size 432x288 with 1 Axes>"
            ]
          },
          "metadata": {
            "tags": [],
            "needs_background": "light"
          }
        }
      ]
    }
  ]
}